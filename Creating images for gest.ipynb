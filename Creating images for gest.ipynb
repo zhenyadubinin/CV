{
 "cells": [
  {
   "cell_type": "code",
   "execution_count": 1,
   "metadata": {},
   "outputs": [
    {
     "name": "stderr",
     "output_type": "stream",
     "text": [
      "Using TensorFlow backend.\n"
     ]
    }
   ],
   "source": [
    "import matplotlib.pyplot as plt\n",
    "import numpy as np\n",
    "from keras.preprocessing.image import ImageDataGenerator\n",
    "from keras.preprocessing import image\n",
    "import os\n",
    "import glob\n",
    "import cv2\n",
    "%matplotlib inline"
   ]
  },
  {
   "cell_type": "code",
   "execution_count": 2,
   "metadata": {},
   "outputs": [],
   "source": [
    "def remove_background(frame):\n",
    "    \n",
    "    fgmask = bgModel.apply(frame, learningRate=0)\n",
    "    kernel = np.ones((3, 3), np.uint8)\n",
    "    fgmask = cv2.erode(fgmask, kernel, iterations=1)\n",
    "    res = cv2.bitwise_and(frame, frame, mask=fgmask)\n",
    "    gray = cv2.cvtColor(res, cv2.COLOR_BGR2GRAY)\n",
    "    blur = cv2.GaussianBlur(gray, (5, 5), 0)\n",
    "    ret, thresh = cv2.threshold(blur, 10, 255, cv2.THRESH_BINARY + cv2.THRESH_OTSU)\n",
    "    \n",
    "    return thresh"
   ]
  },
  {
   "cell_type": "code",
   "execution_count": 4,
   "metadata": {},
   "outputs": [],
   "source": [
    "cap = cv2.VideoCapture(0)\n",
    "cap_region_x_begin = 0.5\n",
    "cap_region_y_end = 0.5\n",
    "num = 1\n",
    "isBgCaptured = 0\n",
    "\n",
    "while True:\n",
    "    \n",
    "    ret, frame = cap.read()\n",
    "    h = frame.shape[0]\n",
    "    w = frame.shape[1]\n",
    "    frame = cv2.flip(frame, 1)\n",
    "    frame_copy = frame[61:int(0.5*h)+1, int(0.5*w):w]\n",
    "    cv2.rectangle(frame, (int(cap_region_x_begin * frame.shape[1]), 60),(frame.shape[1], int(cap_region_y_end * frame.shape[0])), (0, 255, 0), 2)\n",
    "    \n",
    "    if isBgCaptured == 1:\n",
    "        frame_copy = remove_background(frame_copy)\n",
    "        frame[61:int(0.5*h)+1, int(0.5*w):w,0] = frame_copy\n",
    "        frame[61:int(0.5*h)+1, int(0.5*w):w,1] = frame_copy\n",
    "        frame[61:int(0.5*h)+1, int(0.5*w):w,2] = frame_copy\n",
    "        \n",
    "    cv2.imshow(\"original\", frame)\n",
    "    \n",
    "    k = cv2.waitKey(10)\n",
    "    if k == 27:\n",
    "        break\n",
    "    elif k == ord('b'):\n",
    "        bgModel = cv2.createBackgroundSubtractorMOG2(0, 50)\n",
    "        isBgCaptured = 1\n",
    "    elif k == 32:\n",
    "        direc = \"../Final_Project/gest_images/\" + str(num) + '.jpg'\n",
    "        cv2.imwrite(direc, frame_copy)\n",
    "        cv2.imshow(\"save image\", frame_copy)\n",
    "        num += 1\n",
    "        \n",
    "cap.release()        \n",
    "cv2.destroyAllWindows()"
   ]
  },
  {
   "cell_type": "code",
   "execution_count": null,
   "metadata": {},
   "outputs": [],
   "source": []
  }
 ],
 "metadata": {
  "kernelspec": {
   "display_name": "Python 3",
   "language": "python",
   "name": "python3"
  },
  "language_info": {
   "codemirror_mode": {
    "name": "ipython",
    "version": 3
   },
   "file_extension": ".py",
   "mimetype": "text/x-python",
   "name": "python",
   "nbconvert_exporter": "python",
   "pygments_lexer": "ipython3",
   "version": "3.6.6"
  }
 },
 "nbformat": 4,
 "nbformat_minor": 4
}
